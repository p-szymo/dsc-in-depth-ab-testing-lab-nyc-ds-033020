{
 "cells": [
  {
   "cell_type": "markdown",
   "metadata": {},
   "source": [
    "# In Depth A/B Testing - Lab\n",
    "\n",
    "## Introduction\n",
    "\n",
    "In this lab, you'll explore a survey from Kaggle regarding budding data scientists. With this, you'll form some initial hypotheses, and test them using the tools you've acquired to date. \n",
    "\n",
    "## Objectives\n",
    "\n",
    "You will be able to:\n",
    "* Conduct t-tests and an ANOVA on a real-world dataset and interpret the results"
   ]
  },
  {
   "cell_type": "markdown",
   "metadata": {},
   "source": [
    "## Load the Dataset and Perform a Brief Exploration\n",
    "\n",
    "The data is stored in a file called **multipleChoiceResponses_cleaned.csv**. Feel free to check out the original dataset referenced at the bottom of this lab, although this cleaned version will undoubtedly be easier to work with. Additionally, meta-data regarding the questions is stored in a file name **schema.csv**. Load in the data itself as a Pandas DataFrame, and take a moment to briefly get acquainted with it.\n",
    "\n",
    "> Note: If you can't get the file to load properly, try changing the encoding format as in `encoding='latin1'`"
   ]
  },
  {
   "cell_type": "code",
   "execution_count": 6,
   "metadata": {},
   "outputs": [],
   "source": [
    "import pandas as pd\n",
    "import numpy as np\n",
    "import matplotlib.pyplot as plt\n",
    "import seaborn as sns\n",
    "sns.set_style('darkgrid')\n",
    "%matplotlib inline\n",
    "\n",
    "import warnings\n",
    "warnings.filterwarnings(\"ignore\")"
   ]
  },
  {
   "cell_type": "code",
   "execution_count": 7,
   "metadata": {},
   "outputs": [
    {
     "data": {
      "text/plain": [
       "(26394, 230)"
      ]
     },
     "execution_count": 7,
     "metadata": {},
     "output_type": "execute_result"
    }
   ],
   "source": [
    "#Your code here\n",
    "df = pd.read_csv('multipleChoiceResponses_cleaned.csv', encoding='latin1')\n",
    "df.shape"
   ]
  },
  {
   "cell_type": "code",
   "execution_count": 8,
   "metadata": {},
   "outputs": [
    {
     "data": {
      "text/html": [
       "<div>\n",
       "<style scoped>\n",
       "    .dataframe tbody tr th:only-of-type {\n",
       "        vertical-align: middle;\n",
       "    }\n",
       "\n",
       "    .dataframe tbody tr th {\n",
       "        vertical-align: top;\n",
       "    }\n",
       "\n",
       "    .dataframe thead th {\n",
       "        text-align: right;\n",
       "    }\n",
       "</style>\n",
       "<table border=\"1\" class=\"dataframe\">\n",
       "  <thead>\n",
       "    <tr style=\"text-align: right;\">\n",
       "      <th></th>\n",
       "      <th>GenderSelect</th>\n",
       "      <th>Country</th>\n",
       "      <th>Age</th>\n",
       "      <th>EmploymentStatus</th>\n",
       "      <th>StudentStatus</th>\n",
       "      <th>LearningDataScience</th>\n",
       "      <th>CodeWriter</th>\n",
       "      <th>CareerSwitcher</th>\n",
       "      <th>CurrentJobTitleSelect</th>\n",
       "      <th>TitleFit</th>\n",
       "      <th>...</th>\n",
       "      <th>JobFactorTitle</th>\n",
       "      <th>JobFactorCompanyFunding</th>\n",
       "      <th>JobFactorImpact</th>\n",
       "      <th>JobFactorRemote</th>\n",
       "      <th>JobFactorIndustry</th>\n",
       "      <th>JobFactorLeaderReputation</th>\n",
       "      <th>JobFactorDiversity</th>\n",
       "      <th>JobFactorPublishingOpportunity</th>\n",
       "      <th>exchangeRate</th>\n",
       "      <th>AdjustedCompensation</th>\n",
       "    </tr>\n",
       "  </thead>\n",
       "  <tbody>\n",
       "    <tr>\n",
       "      <th>0</th>\n",
       "      <td>Non-binary, genderqueer, or gender non-conforming</td>\n",
       "      <td>NaN</td>\n",
       "      <td>NaN</td>\n",
       "      <td>Employed full-time</td>\n",
       "      <td>NaN</td>\n",
       "      <td>NaN</td>\n",
       "      <td>Yes</td>\n",
       "      <td>NaN</td>\n",
       "      <td>DBA/Database Engineer</td>\n",
       "      <td>Fine</td>\n",
       "      <td>...</td>\n",
       "      <td>NaN</td>\n",
       "      <td>NaN</td>\n",
       "      <td>NaN</td>\n",
       "      <td>NaN</td>\n",
       "      <td>NaN</td>\n",
       "      <td>NaN</td>\n",
       "      <td>NaN</td>\n",
       "      <td>NaN</td>\n",
       "      <td>NaN</td>\n",
       "      <td>NaN</td>\n",
       "    </tr>\n",
       "    <tr>\n",
       "      <th>1</th>\n",
       "      <td>Female</td>\n",
       "      <td>United States</td>\n",
       "      <td>30.0</td>\n",
       "      <td>Not employed, but looking for work</td>\n",
       "      <td>NaN</td>\n",
       "      <td>NaN</td>\n",
       "      <td>NaN</td>\n",
       "      <td>NaN</td>\n",
       "      <td>NaN</td>\n",
       "      <td>NaN</td>\n",
       "      <td>...</td>\n",
       "      <td>NaN</td>\n",
       "      <td>NaN</td>\n",
       "      <td>NaN</td>\n",
       "      <td>NaN</td>\n",
       "      <td>NaN</td>\n",
       "      <td>Somewhat important</td>\n",
       "      <td>NaN</td>\n",
       "      <td>NaN</td>\n",
       "      <td>NaN</td>\n",
       "      <td>NaN</td>\n",
       "    </tr>\n",
       "    <tr>\n",
       "      <th>2</th>\n",
       "      <td>Male</td>\n",
       "      <td>Canada</td>\n",
       "      <td>28.0</td>\n",
       "      <td>Not employed, but looking for work</td>\n",
       "      <td>NaN</td>\n",
       "      <td>NaN</td>\n",
       "      <td>NaN</td>\n",
       "      <td>NaN</td>\n",
       "      <td>NaN</td>\n",
       "      <td>NaN</td>\n",
       "      <td>...</td>\n",
       "      <td>Very Important</td>\n",
       "      <td>Very Important</td>\n",
       "      <td>Very Important</td>\n",
       "      <td>Very Important</td>\n",
       "      <td>Very Important</td>\n",
       "      <td>Very Important</td>\n",
       "      <td>Very Important</td>\n",
       "      <td>Very Important</td>\n",
       "      <td>NaN</td>\n",
       "      <td>NaN</td>\n",
       "    </tr>\n",
       "    <tr>\n",
       "      <th>3</th>\n",
       "      <td>Male</td>\n",
       "      <td>United States</td>\n",
       "      <td>56.0</td>\n",
       "      <td>Independent contractor, freelancer, or self-em...</td>\n",
       "      <td>NaN</td>\n",
       "      <td>NaN</td>\n",
       "      <td>Yes</td>\n",
       "      <td>NaN</td>\n",
       "      <td>Operations Research Practitioner</td>\n",
       "      <td>Poorly</td>\n",
       "      <td>...</td>\n",
       "      <td>NaN</td>\n",
       "      <td>NaN</td>\n",
       "      <td>NaN</td>\n",
       "      <td>NaN</td>\n",
       "      <td>NaN</td>\n",
       "      <td>NaN</td>\n",
       "      <td>NaN</td>\n",
       "      <td>NaN</td>\n",
       "      <td>1.0</td>\n",
       "      <td>250000.0</td>\n",
       "    </tr>\n",
       "    <tr>\n",
       "      <th>4</th>\n",
       "      <td>Male</td>\n",
       "      <td>Taiwan</td>\n",
       "      <td>38.0</td>\n",
       "      <td>Employed full-time</td>\n",
       "      <td>NaN</td>\n",
       "      <td>NaN</td>\n",
       "      <td>Yes</td>\n",
       "      <td>NaN</td>\n",
       "      <td>Computer Scientist</td>\n",
       "      <td>Fine</td>\n",
       "      <td>...</td>\n",
       "      <td>NaN</td>\n",
       "      <td>NaN</td>\n",
       "      <td>NaN</td>\n",
       "      <td>NaN</td>\n",
       "      <td>NaN</td>\n",
       "      <td>NaN</td>\n",
       "      <td>NaN</td>\n",
       "      <td>NaN</td>\n",
       "      <td>NaN</td>\n",
       "      <td>NaN</td>\n",
       "    </tr>\n",
       "  </tbody>\n",
       "</table>\n",
       "<p>5 rows × 230 columns</p>\n",
       "</div>"
      ],
      "text/plain": [
       "                                        GenderSelect        Country   Age  \\\n",
       "0  Non-binary, genderqueer, or gender non-conforming            NaN   NaN   \n",
       "1                                             Female  United States  30.0   \n",
       "2                                               Male         Canada  28.0   \n",
       "3                                               Male  United States  56.0   \n",
       "4                                               Male         Taiwan  38.0   \n",
       "\n",
       "                                    EmploymentStatus StudentStatus  \\\n",
       "0                                 Employed full-time           NaN   \n",
       "1                 Not employed, but looking for work           NaN   \n",
       "2                 Not employed, but looking for work           NaN   \n",
       "3  Independent contractor, freelancer, or self-em...           NaN   \n",
       "4                                 Employed full-time           NaN   \n",
       "\n",
       "  LearningDataScience CodeWriter CareerSwitcher  \\\n",
       "0                 NaN        Yes            NaN   \n",
       "1                 NaN        NaN            NaN   \n",
       "2                 NaN        NaN            NaN   \n",
       "3                 NaN        Yes            NaN   \n",
       "4                 NaN        Yes            NaN   \n",
       "\n",
       "              CurrentJobTitleSelect TitleFit  ...  JobFactorTitle  \\\n",
       "0             DBA/Database Engineer     Fine  ...             NaN   \n",
       "1                               NaN      NaN  ...             NaN   \n",
       "2                               NaN      NaN  ...  Very Important   \n",
       "3  Operations Research Practitioner   Poorly  ...             NaN   \n",
       "4                Computer Scientist     Fine  ...             NaN   \n",
       "\n",
       "  JobFactorCompanyFunding JobFactorImpact JobFactorRemote JobFactorIndustry  \\\n",
       "0                     NaN             NaN             NaN               NaN   \n",
       "1                     NaN             NaN             NaN               NaN   \n",
       "2          Very Important  Very Important  Very Important    Very Important   \n",
       "3                     NaN             NaN             NaN               NaN   \n",
       "4                     NaN             NaN             NaN               NaN   \n",
       "\n",
       "  JobFactorLeaderReputation JobFactorDiversity JobFactorPublishingOpportunity  \\\n",
       "0                       NaN                NaN                            NaN   \n",
       "1        Somewhat important                NaN                            NaN   \n",
       "2            Very Important     Very Important                 Very Important   \n",
       "3                       NaN                NaN                            NaN   \n",
       "4                       NaN                NaN                            NaN   \n",
       "\n",
       "  exchangeRate AdjustedCompensation  \n",
       "0          NaN                  NaN  \n",
       "1          NaN                  NaN  \n",
       "2          NaN                  NaN  \n",
       "3          1.0             250000.0  \n",
       "4          NaN                  NaN  \n",
       "\n",
       "[5 rows x 230 columns]"
      ]
     },
     "execution_count": 8,
     "metadata": {},
     "output_type": "execute_result"
    }
   ],
   "source": [
    "df.head()"
   ]
  },
  {
   "cell_type": "code",
   "execution_count": 9,
   "metadata": {},
   "outputs": [
    {
     "name": "stdout",
     "output_type": "stream",
     "text": [
      "<class 'pandas.core.frame.DataFrame'>\n",
      "RangeIndex: 26394 entries, 0 to 26393\n",
      "Columns: 230 entries, GenderSelect to AdjustedCompensation\n",
      "dtypes: float64(15), object(215)\n",
      "memory usage: 46.3+ MB\n"
     ]
    }
   ],
   "source": [
    "df.info()"
   ]
  },
  {
   "cell_type": "code",
   "execution_count": 10,
   "metadata": {},
   "outputs": [
    {
     "data": {
      "text/plain": [
       "GenderSelect                       object\n",
       "Country                            object\n",
       "Age                                object\n",
       "EmploymentStatus                   object\n",
       "StudentStatus                      object\n",
       "                                   ...   \n",
       "JobFactorLeaderReputation          object\n",
       "JobFactorDiversity                 object\n",
       "JobFactorPublishingOpportunity     object\n",
       "exchangeRate                      float64\n",
       "AdjustedCompensation              float64\n",
       "Length: 230, dtype: object"
      ]
     },
     "execution_count": 10,
     "metadata": {},
     "output_type": "execute_result"
    }
   ],
   "source": [
    "df.dtypes"
   ]
  },
  {
   "cell_type": "code",
   "execution_count": 42,
   "metadata": {},
   "outputs": [
    {
     "data": {
      "text/plain": [
       "array([\"Bachelor's degree\", \"Master's degree\", 'Doctoral degree', nan,\n",
       "       \"Some college/university study without earning a bachelor's degree\",\n",
       "       'I did not complete any formal education past high school',\n",
       "       'Professional degree', 'I prefer not to answer'], dtype=object)"
      ]
     },
     "execution_count": 42,
     "metadata": {},
     "output_type": "execute_result"
    }
   ],
   "source": [
    "df.FormalEducation.unique()"
   ]
  },
  {
   "cell_type": "markdown",
   "metadata": {},
   "source": [
    "## Wages and Education\n",
    "\n",
    "You've been asked to determine whether education is impactful to salary. Develop a hypothesis test to compare the salaries of those with Master's degrees to those with Bachelor's degrees. Are the two statistically different according to your results?\n",
    "\n",
    "> Note: The relevant features are stored in the 'FormalEducation' and 'AdjustedCompensation' features.\n",
    "\n",
    "You may import the functions stored in the `flatiron_stats.py` file to help perform your hypothesis tests. It contains the stats functions that you previously coded: `welch_t(a,b)`, `welch_df(a, b)`, and `p_value(a, b, two_sided=False)`. \n",
    "\n",
    "Note that `scipy.stats.ttest_ind(a, b, equal_var=False)` performs a two-sided Welch's t-test and that p-values derived from two-sided tests are two times the p-values derived from one-sided tests. See the [documentation](https://docs.scipy.org/doc/scipy/reference/generated/scipy.stats.ttest_ind.html) for more information.    "
   ]
  },
  {
   "cell_type": "code",
   "execution_count": 44,
   "metadata": {},
   "outputs": [
    {
     "data": {
      "text/plain": [
       "((4811, 230), (8204, 230), (3543, 230))"
      ]
     },
     "execution_count": 44,
     "metadata": {},
     "output_type": "execute_result"
    }
   ],
   "source": [
    "df_bach = df[df.FormalEducation == \"Bachelor's degree\"]\n",
    "df_mast = df[df.FormalEducation == \"Master's degree\"]\n",
    "df_doc = df[df.FormalEducation == 'Doctoral degree']\n",
    "df_bach.shape, df_mast.shape, df_doc.shape"
   ]
  },
  {
   "cell_type": "code",
   "execution_count": 34,
   "metadata": {},
   "outputs": [],
   "source": [
    "from scipy.stats import ttest_ind\n",
    "from flatiron_stats import *"
   ]
  },
  {
   "cell_type": "code",
   "execution_count": 25,
   "metadata": {},
   "outputs": [
    {
     "name": "stdout",
     "output_type": "stream",
     "text": [
      "bachelor's:\n",
      "\n",
      "count    1.107000e+03\n",
      "mean     6.488710e+04\n",
      "std      3.069359e+05\n",
      "min      0.000000e+00\n",
      "25%      1.126620e+04\n",
      "50%      3.839940e+04\n",
      "75%      8.023100e+04\n",
      "max      9.999999e+06\n",
      "Name: AdjustedCompensation, dtype: float64\n",
      "\n",
      "---------------------\n",
      "master's\n",
      "\n",
      "count    1.990000e+03\n",
      "mean     6.913990e+04\n",
      "std      1.355272e+05\n",
      "min      0.000000e+00\n",
      "25%      2.186800e+04\n",
      "50%      5.381217e+04\n",
      "75%      9.200000e+04\n",
      "max      4.498900e+06\n",
      "Name: AdjustedCompensation, dtype: float64\n"
     ]
    }
   ],
   "source": [
    "print(\"bachelor's:\\n\")\n",
    "print(df_bach.AdjustedCompensation.describe())\n",
    "print(\"\\n---------------------\\nmaster's\\n\")\n",
    "print(df_mast.AdjustedCompensation.describe())"
   ]
  },
  {
   "cell_type": "code",
   "execution_count": 26,
   "metadata": {},
   "outputs": [
    {
     "data": {
      "text/plain": [
       "64887.09799461879"
      ]
     },
     "execution_count": 26,
     "metadata": {},
     "output_type": "execute_result"
    }
   ],
   "source": [
    "df_bach.AdjustedCompensation.mean()"
   ]
  },
  {
   "cell_type": "code",
   "execution_count": 27,
   "metadata": {},
   "outputs": [
    {
     "data": {
      "text/plain": [
       "(64887.09799461879, 69139.89987119999)"
      ]
     },
     "execution_count": 27,
     "metadata": {},
     "output_type": "execute_result"
    }
   ],
   "source": [
    "bach_mean = df_bach.AdjustedCompensation.mean()\n",
    "mast_mean = df_mast.AdjustedCompensation.mean()\n",
    "bach_mean, mast_mean"
   ]
  },
  {
   "cell_type": "code",
   "execution_count": 33,
   "metadata": {},
   "outputs": [
    {
     "data": {
      "text/plain": [
       "<matplotlib.axes._subplots.AxesSubplot at 0x7f8e9becfeb8>"
      ]
     },
     "execution_count": 33,
     "metadata": {},
     "output_type": "execute_result"
    },
    {
     "data": {
      "image/png": "[encoded data removed]",
      "text/plain": [
       "<Figure size 432x288 with 1 Axes>"
      ]
     },
     "metadata": {
      "needs_background": "light"
     },
     "output_type": "display_data"
    }
   ],
   "source": [
    "sns.distplot(df_bach.AdjustedCompensation)\n",
    "sns.distplot(df_mast.AdjustedCompensation)"
   ]
  },
  {
   "cell_type": "code",
   "execution_count": 36,
   "metadata": {},
   "outputs": [
    {
     "data": {
      "text/plain": [
       "0.1813211861492845"
      ]
     },
     "execution_count": 36,
     "metadata": {},
     "output_type": "execute_result"
    }
   ],
   "source": [
    "p_value_welch_ttest(df_bach.AdjustedCompensation, df_mast.AdjustedCompensation)"
   ]
  },
  {
   "cell_type": "code",
   "execution_count": 38,
   "metadata": {},
   "outputs": [
    {
     "name": "stdout",
     "output_type": "stream",
     "text": [
      "0.8th percentile:\tset1: 93233.13\tset2: 103000.0\n",
      "0.81th percentile:\tset1: 95572.83\tset2: 107009.0\n",
      "0.82th percentile:\tset1: 99276.38\tset2: 110000.0\n",
      "0.83th percentile:\tset1: 100000.0\tset2: 111503.83\n",
      "0.84th percentile:\tset1: 103040.0\tset2: 115240.4\n",
      "0.85th percentile:\tset1: 105935.04\tset2: 119582.6\n",
      "0.86th percentile:\tset1: 110000.0\tset2: 120000.0\n",
      "0.87th percentile:\tset1: 112000.0\tset2: 124719.88\n",
      "0.88th percentile:\tset1: 115000.0\tset2: 129421.46\n",
      "0.89th percentile:\tset1: 120000.0\tset2: 130000.0\n",
      "0.9th percentile:\tset1: 120346.5\tset2: 135000.0\n",
      "0.91th percentile:\tset1: 126460.0\tset2: 140000.0\n",
      "0.92th percentile:\tset1: 132615.4\tset2: 149640.0\n",
      "0.93th percentile:\tset1: 140000.0\tset2: 150000.0\n",
      "0.94th percentile:\tset1: 143408.8\tset2: 160000.0\n",
      "0.95th percentile:\tset1: 150000.0\tset2: 166778.6\n",
      "0.96th percentile:\tset1: 179849.74\tset2: 180000.0\n",
      "0.97th percentile:\tset1: 195000.0\tset2: 200000.0\n",
      "0.98th percentile:\tset1: 200000.0\tset2: 211100.0\n",
      "0.99th percentile:\tset1: 250000.0\tset2: 250000.0\n",
      "1.0th percentile:\tset1: 9999999.0\tset2: 4498900.0\n"
     ]
    }
   ],
   "source": [
    "for q in np.linspace(.8, 1, num=21):\n",
    "    bach_q =  round(df_bach.AdjustedCompensation.quantile(q=q), 2)\n",
    "    mast_q =  round(df_mast.AdjustedCompensation.quantile(q=q), 2)\n",
    "    print(f'{round(q,2)}th percentile:\\tset1: {bach_q}\\tset2: {mast_q}')"
   ]
  },
  {
   "cell_type": "code",
   "execution_count": 39,
   "metadata": {},
   "outputs": [
    {
     "name": "stdout",
     "output_type": "stream",
     "text": [
      "Repeated Test with Outliers Removed:\n",
      "Bachelor's vs. Master's\n",
      "Median Values: \tBachelor's: 38292.15 \tMaster's: 53539.72\n",
      "Mean Values: \tBachelor's: 53744.35 \tMaster's: 63976.63\n",
      "Sample sizes: \tBachelor's: 1103 \tMaster's: 1985\n",
      "Welch's t-test p-value with outliers removed: 4.4874583271514723e-07\n"
     ]
    }
   ],
   "source": [
    "print('Repeated Test with Outliers Removed:')\n",
    "print(\"Bachelor's vs. Master's\")\n",
    "outlier_threshold = 500000\n",
    "df_bach_earn_reg = df_bach[df_bach.AdjustedCompensation <= outlier_threshold].AdjustedCompensation\n",
    "df_mast_earn_reg = df_mast[df_mast.AdjustedCompensation <= outlier_threshold].AdjustedCompensation\n",
    "print(f\"Median Values: \\tBachelor's: {round(df_bach_earn_reg.median(),2)} \\tMaster's: {round(df_mast_earn_reg.median(),2)}\")\n",
    "print(f\"Mean Values: \\tBachelor's: {round(df_bach_earn_reg.mean(),2)} \\tMaster's: {round(df_mast_earn_reg.mean(),2)}\")\n",
    "print(f\"Sample sizes: \\tBachelor's: {len(df_bach_earn_reg)} \\tMaster's: {len(df_mast_earn_reg)}\")\n",
    "print(f\"Welch's t-test p-value with outliers removed:\", p_value_welch_ttest(df_bach_earn_reg, df_mast_earn_reg))\n"
   ]
  },
  {
   "cell_type": "code",
   "execution_count": 40,
   "metadata": {},
   "outputs": [
    {
     "data": {
      "image/png": "[encoded data removed]",
      "text/plain": [
       "<Figure size 432x288 with 1 Axes>"
      ]
     },
     "metadata": {
      "needs_background": "light"
     },
     "output_type": "display_data"
    }
   ],
   "source": [
    "sns.distplot(df_bach_earn_reg)\n",
    "sns.distplot(df_mast_earn_reg);"
   ]
  },
  {
   "cell_type": "code",
   "execution_count": 41,
   "metadata": {
    "scrolled": true
   },
   "outputs": [
    {
     "data": {
      "text/plain": [
       "Ttest_indResult(statistic=-4.925048068668343, pvalue=8.877640800640276e-07)"
      ]
     },
     "execution_count": 41,
     "metadata": {},
     "output_type": "execute_result"
    }
   ],
   "source": [
    "ttest_ind(df_bach_earn_reg, df_mast_earn_reg)"
   ]
  },
  {
   "cell_type": "markdown",
   "metadata": {},
   "source": [
    "## Wages and Education II\n",
    "\n",
    "Now perform a similar statistical test comparing the AdjustedCompensation of those with Bachelor's degrees and those with Doctorates. If you haven't already, be sure to explore the distribution of the AdjustedCompensation feature for any anomalies. "
   ]
  },
  {
   "cell_type": "code",
   "execution_count": 46,
   "metadata": {},
   "outputs": [
    {
     "name": "stdout",
     "output_type": "stream",
     "text": [
      "bachelor's:\n",
      "\n",
      "count    1.107000e+03\n",
      "mean     6.488710e+04\n",
      "std      3.069359e+05\n",
      "min      0.000000e+00\n",
      "25%      1.126620e+04\n",
      "50%      3.839940e+04\n",
      "75%      8.023100e+04\n",
      "max      9.999999e+06\n",
      "Name: AdjustedCompensation, dtype: float64\n",
      "\n",
      "---------------------\n",
      "doctoral\n",
      "\n",
      "count    9.670000e+02\n",
      "mean     2.956618e+07\n",
      "std      9.099981e+08\n",
      "min     -7.351631e+01\n",
      "25%      4.000000e+04\n",
      "50%      7.413192e+04\n",
      "75%      1.200000e+05\n",
      "max      2.829740e+10\n",
      "Name: AdjustedCompensation, dtype: float64\n"
     ]
    }
   ],
   "source": [
    "print(\"bachelor's:\\n\")\n",
    "print(df_bach.AdjustedCompensation.describe())\n",
    "print(\"\\n---------------------\\ndoctoral\\n\")\n",
    "print(df_doc.AdjustedCompensation.describe())"
   ]
  },
  {
   "cell_type": "code",
   "execution_count": 47,
   "metadata": {},
   "outputs": [
    {
     "data": {
      "text/plain": [
       "<matplotlib.axes._subplots.AxesSubplot at 0x7f8ea00b2240>"
      ]
     },
     "execution_count": 47,
     "metadata": {},
     "output_type": "execute_result"
    },
    {
     "data": {
      "image/png": "[encoded data removed]",
      "text/plain": [
       "<Figure size 432x288 with 1 Axes>"
      ]
     },
     "metadata": {
      "needs_background": "light"
     },
     "output_type": "display_data"
    }
   ],
   "source": [
    "sns.distplot(df_bach.AdjustedCompensation)\n",
    "sns.distplot(df_doc.AdjustedCompensation)"
   ]
  },
  {
   "cell_type": "code",
   "execution_count": 48,
   "metadata": {},
   "outputs": [
    {
     "data": {
      "text/plain": [
       "0.026862923061632626"
      ]
     },
     "execution_count": 48,
     "metadata": {},
     "output_type": "execute_result"
    }
   ],
   "source": [
    "p_value_welch_ttest(df_bach.AdjustedCompensation, df_doc.AdjustedCompensation)"
   ]
  },
  {
   "cell_type": "code",
   "execution_count": 50,
   "metadata": {},
   "outputs": [
    {
     "name": "stdout",
     "output_type": "stream",
     "text": [
      "0.8th percentile:\tbachelor's: 93233.13\tdoctoral: 135000.0\n",
      "0.81th percentile:\tbachelor's: 95572.83\tdoctoral: 140000.0\n",
      "0.82th percentile:\tbachelor's: 99276.38\tdoctoral: 140000.0\n",
      "0.83th percentile:\tbachelor's: 100000.0\tdoctoral: 146796.17\n",
      "0.84th percentile:\tbachelor's: 103040.0\tdoctoral: 150000.0\n",
      "0.85th percentile:\tbachelor's: 105935.04\tdoctoral: 150000.0\n",
      "0.86th percentile:\tbachelor's: 110000.0\tdoctoral: 155000.0\n",
      "0.87th percentile:\tbachelor's: 112000.0\tdoctoral: 160000.0\n",
      "0.88th percentile:\tbachelor's: 115000.0\tdoctoral: 160000.0\n",
      "0.89th percentile:\tbachelor's: 120000.0\tdoctoral: 166480.0\n",
      "0.9th percentile:\tbachelor's: 120346.5\tdoctoral: 172057.78\n",
      "0.91th percentile:\tbachelor's: 126460.0\tdoctoral: 175000.0\n",
      "0.92th percentile:\tbachelor's: 132615.4\tdoctoral: 181555.2\n",
      "0.93th percentile:\tbachelor's: 140000.0\tdoctoral: 191900.0\n",
      "0.94th percentile:\tbachelor's: 143408.8\tdoctoral: 200000.0\n",
      "0.95th percentile:\tbachelor's: 150000.0\tdoctoral: 200000.0\n",
      "0.96th percentile:\tbachelor's: 179849.74\tdoctoral: 220999.61\n",
      "0.97th percentile:\tbachelor's: 195000.0\tdoctoral: 240879.14\n",
      "0.98th percentile:\tbachelor's: 200000.0\tdoctoral: 277349.78\n",
      "0.99th percentile:\tbachelor's: 250000.0\tdoctoral: 336800.0\n",
      "1.0th percentile:\tbachelor's: 9999999.0\tdoctoral: 28297400000.0\n"
     ]
    }
   ],
   "source": [
    "for q in np.linspace(.8, 1, num=21):\n",
    "    bach_q =  round(df_bach.AdjustedCompensation.quantile(q=q), 2)\n",
    "    doc_q =  round(df_doc.AdjustedCompensation.quantile(q=q), 2)\n",
    "    print(f\"{round(q,2)}th percentile:\\tbachelor's: {bach_q}\\tdoctoral: {doc_q}\")"
   ]
  },
  {
   "cell_type": "code",
   "execution_count": 51,
   "metadata": {},
   "outputs": [
    {
     "name": "stdout",
     "output_type": "stream",
     "text": [
      "Repeated Test with Outliers Removed:\n",
      "Bachelor's vs. Doctorate\n",
      "Median Values: \tBachelor's: 38292.15 \tDoctorate: 73152.77\n",
      "Mean Values: \tBachelor's: 53744.35 \tDoctorate: 86194.98\n",
      "Sample sizes: \tBachelor's: 1103 \tDoctorate: 964\n",
      "Welch's t-test p-value with outliers removed: 0.0\n"
     ]
    }
   ],
   "source": [
    "print('Repeated Test with Outliers Removed:')\n",
    "print(\"Bachelor's vs. Doctorate\")\n",
    "outlier_threshold = 500000\n",
    "df_doc_earn_reg = df_doc[df_doc.AdjustedCompensation <= outlier_threshold].AdjustedCompensation\n",
    "print(f\"Median Values: \\tBachelor's: {round(df_bach_earn_reg.median(),2)} \\tDoctorate: {round(df_doc_earn_reg.median(),2)}\")\n",
    "print(f\"Mean Values: \\tBachelor's: {round(df_bach_earn_reg.mean(),2)} \\tDoctorate: {round(df_doc_earn_reg.mean(),2)}\")\n",
    "print(f\"Sample sizes: \\tBachelor's: {len(df_bach_earn_reg)} \\tDoctorate: {len(df_doc_earn_reg)}\")\n",
    "print(f\"Welch's t-test p-value with outliers removed:\", p_value_welch_ttest(df_bach_earn_reg, df_doc_earn_reg))\n"
   ]
  },
  {
   "cell_type": "code",
   "execution_count": 11,
   "metadata": {
    "scrolled": false
   },
   "outputs": [
    {
     "name": "stdout",
     "output_type": "stream",
     "text": [
      "Median Values: \n",
      "s1:74131.92 \n",
      "s2:38399.4\n",
      "Sample sizes: \n",
      "s1: 967 \n",
      "s2: 1107\n",
      "Welch's t-test p-value: 0.1568238199472023\n",
      "\n",
      "\n",
      "Repeated Test with Ouliers Removed:\n",
      "Sample sizes: \n",
      "s1: 964 \n",
      "s2: 1103\n",
      "Welch's t-test p-value with outliers removed: 0.0\n"
     ]
    }
   ],
   "source": [
    "#Your code here"
   ]
  },
  {
   "cell_type": "markdown",
   "metadata": {},
   "source": [
    "## Wages and Education III\n",
    "\n",
    "Remember the multiple comparisons problem; rather than continuing on like this, perform an ANOVA test between the various 'FormalEducation' categories and their relation to 'AdjustedCompensation'."
   ]
  },
  {
   "cell_type": "code",
   "execution_count": 55,
   "metadata": {},
   "outputs": [
    {
     "name": "stdout",
     "output_type": "stream",
     "text": [
      "                       sum_sq      df         F    PR(>F)\n",
      "FormalEducation  6.540294e+17     6.0  0.590714  0.738044\n",
      "Residual         7.999414e+20  4335.0       NaN       NaN\n"
     ]
    }
   ],
   "source": [
    "#Perform ANOVA here\n",
    "import statsmodels.api as sm\n",
    "from statsmodels.formula.api import ols\n",
    "\n",
    "formula = 'AdjustedCompensation ~ FormalEducation'\n",
    "lm = ols(formula, df).fit()\n",
    "table = sm.stats.anova_lm(lm, typ=2)\n",
    "print(table)"
   ]
  },
  {
   "cell_type": "code",
   "execution_count": 56,
   "metadata": {},
   "outputs": [
    {
     "name": "stdout",
     "output_type": "stream",
     "text": [
      "                       sum_sq      df          F        PR(>F)\n",
      "FormalEducation  5.841881e+11     6.0  29.224224  1.727132e-34\n",
      "Residual         1.439270e+13  4320.0        NaN           NaN\n"
     ]
    }
   ],
   "source": [
    "temp = df[df.AdjustedCompensation <= outlier_threshold]\n",
    "\n",
    "lm = ols(formula, temp).fit()\n",
    "table = sm.stats.anova_lm(lm, typ=2)\n",
    "print(table)"
   ]
  },
  {
   "cell_type": "markdown",
   "metadata": {},
   "source": [
    "## Additional Resources\n",
    "\n",
    "Here's the original source where the data was taken from:  \n",
    "    [Kaggle Machine Learning & Data Science Survey 2017](https://www.kaggle.com/kaggle/kaggle-survey-2017)"
   ]
  },
  {
   "cell_type": "markdown",
   "metadata": {},
   "source": [
    "## Summary\n",
    "\n",
    "In this lab, you practiced conducting actual hypothesis tests on actual data. From this, you saw how dependent results can be on the initial problem formulation, including preprocessing!"
   ]
  }
 ],
 "metadata": {
  "kernelspec": {
   "display_name": "Python 3",
   "language": "python",
   "name": "python3"
  },
  "language_info": {
   "codemirror_mode": {
    "name": "ipython",
    "version": 3
   },
   "file_extension": ".py",
   "mimetype": "text/x-python",
   "name": "python",
   "nbconvert_exporter": "python",
   "pygments_lexer": "ipython3",
   "version": "3.6.9"
  },
  "toc": {
   "base_numbering": 1,
   "nav_menu": {},
   "number_sections": true,
   "sideBar": true,
   "skip_h1_title": false,
   "title_cell": "Table of Contents",
   "title_sidebar": "Contents",
   "toc_cell": false,
   "toc_position": {},
   "toc_section_display": true,
   "toc_window_display": false
  }
 },
 "nbformat": 4,
 "nbformat_minor": 2
}
